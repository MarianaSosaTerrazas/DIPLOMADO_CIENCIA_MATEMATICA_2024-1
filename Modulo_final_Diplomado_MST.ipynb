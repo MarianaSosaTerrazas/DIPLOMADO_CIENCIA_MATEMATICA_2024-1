{
  "nbformat": 4,
  "nbformat_minor": 0,
  "metadata": {
    "colab": {
      "provenance": [],
      "authorship_tag": "ABX9TyNYQvMVQpy1qdFz5Do8kX0f",
      "include_colab_link": true
    },
    "kernelspec": {
      "name": "python3",
      "display_name": "Python 3"
    },
    "language_info": {
      "name": "python"
    }
  },
  "cells": [
    {
      "cell_type": "markdown",
      "metadata": {
        "id": "view-in-github",
        "colab_type": "text"
      },
      "source": [
        "<a href=\"https://colab.research.google.com/github/MarianaSosaTerrazas/DIPLOMADO_CIENCIA_MATEMATICA_2024-1/blob/main/Modulo_final_Diplomado_MST.ipynb\" target=\"_parent\"><img src=\"https://colab.research.google.com/assets/colab-badge.svg\" alt=\"Open In Colab\"/></a>"
      ]
    },
    {
      "cell_type": "markdown",
      "source": [
        "**PRESENTACIÓN FINAL**"
      ],
      "metadata": {
        "id": "UzIPwcbQiDid"
      }
    },
    {
      "cell_type": "markdown",
      "source": [
        "https://docs.google.com/spreadsheets/d/1UMF0t-OIweIORImOjV9EFFpyGAlWli5A/edit?usp=sharing&ouid=100023814970847275809&rtpof=true&sd=true"
      ],
      "metadata": {
        "id": "QZlQ3EfqiQcP"
      }
    },
    {
      "cell_type": "markdown",
      "source": [
        "**REPORTE PBI**"
      ],
      "metadata": {
        "id": "D2U2gLcliGeF"
      }
    },
    {
      "cell_type": "markdown",
      "source": [
        "https://drive.google.com/file/d/1QwckwGmW08-gCNra2R-LdcKSzPfhD0M1/view?usp=sharing\n"
      ],
      "metadata": {
        "id": "S1EVpighlW1D"
      }
    },
    {
      "cell_type": "code",
      "source": [],
      "metadata": {
        "id": "bQnp9G0HiPqz"
      },
      "execution_count": null,
      "outputs": []
    }
  ]
}
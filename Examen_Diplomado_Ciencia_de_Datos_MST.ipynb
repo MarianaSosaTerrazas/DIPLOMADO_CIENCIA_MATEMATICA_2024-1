{
  "nbformat": 4,
  "nbformat_minor": 0,
  "metadata": {
    "colab": {
      "provenance": [],
      "mount_file_id": "1w3BkVNO0mtdjmEnvxS95T78ezXm6gNTw",
      "authorship_tag": "ABX9TyM4JIn3diYeoh6aRKGWR0ZT",
      "include_colab_link": true
    },
    "kernelspec": {
      "name": "python3",
      "display_name": "Python 3"
    },
    "language_info": {
      "name": "python"
    }
  },
  "cells": [
    {
      "cell_type": "markdown",
      "metadata": {
        "id": "view-in-github",
        "colab_type": "text"
      },
      "source": [
        "<a href=\"https://colab.research.google.com/github/MarianaSosaTerrazas/DIPLOMADO_CIENCIA_MATEMATICA_2024-1/blob/main/Examen_Diplomado_Ciencia_de_Datos_MST.ipynb\" target=\"_parent\"><img src=\"https://colab.research.google.com/assets/colab-badge.svg\" alt=\"Open In Colab\"/></a>"
      ]
    },
    {
      "cell_type": "markdown",
      "source": [
        "# DIPLOMADO CIENCIA MATEMÁTICA DE DATOS\n",
        "\n",
        "## Examen\n",
        "### Examen Teórico\n",
        "\n",
        "**Instrucciones**\n",
        "\n",
        "Contesta las siguientes.\n",
        "\n",
        "1. ¿Cuál es la diferencia entre Data Analysis y Data Science?\n",
        "**R. UN DATA ANALYSIS ES UNA PERSONA QUE AUNQUE SABE CORRER MODELOS, SOLO ES UNA ANALISTA DE DATOS, VALIDARÁ E INTERPRETARA SI EL MODELO SE CORRIO BIEN, PERO NO VA A PROPONER MODELOS, GENERALMENTE EJECUTA MODELOS YA ESTANBLECIDOS PARA UN TIPO DE PROBLEMAS DETERMINADOS. POR OTRO LADO UN DATA SCIENCE, ES UNA PERSONA CON MAYOR CONOCIMIENTO TECNICO QUE PODRA INCLUSIVE PROPONER MODELOS DE ACUERDO A LA INFORMACIÓN QUE RECOLECTA TIENE LA CAPACIDAD DE PROPONER SOLUCIONES NUEVAS, SU CONOCIMIENTO ES MAYOR Y PODRIA HASTA CREAR METODOLOGIAS O MODELOS NUEVOS.**\n",
        "\n",
        "2. ¿Cuál es el proposito del análisis exploratorio?\n",
        "\n",
        "**R.UN ANALISIS EXPLORATORIO NOS AYUDARÁ A ENTENDER MEJOR LA CALIDAD DE DATA QUE TENEMOS, Y PREVEER SITUACIONES QUE GENEREN ERROR O INCONGRUENCIAS DURANTE LA EJECUCIÓN DEL MODELO; YA QUE NOS AYUDA A DETECTAR VALORES ATIPICOS, LIMPIAR LA DATA, INCLUSIVE A DETERMINAR QUE MODELO PODREMOS USAR PARA ESA DATA.**\n",
        "\n",
        "3. ¿Cuáles son los problemas más comunes que uno encuentra en el análisis de datos?\n",
        "\n",
        "**R.LIMPIEZA DE DATOS, DATOS FALTANTES,COLUMNAS IRRELEVANTES,FILAS REPETIDAS, VALORES EXTREMOS, ERRORES EN VALORES DE TIPO CUALITATIVOS, TAMAÑO DE LA MUESTRA.**\n",
        "\n",
        "4. ¿Cuáles son los pasos en un proyecto de análisis de datos?\n",
        "\n",
        "**R.1.DEBEMOS TENER CLARO CUAL ES EL PROBLEMA QUE ESPERAMOS RESOLVER, 2.ENTENDER CUAL VA A SER EL MODELO O MODELOS QUE VAMOS A USAR PARA RESOLVER EL PROBLEMA, ES DECIR, DETERMINAR CUAL ES EL MODELO QUE MEJOR RESUELVE NUESTRO PROBLEMA EN FUNCIÓN CON LA DATA QUE TENEMOS Y EL RESULTADO QUE ESPERAMOS.**\n",
        "\n",
        "5. ¿Cuáles son las diferencias en Aprendizaje Supervisado y Aprendizaje No Supervisado?\n",
        "\n",
        "**R. UN APRENDIZAJE SUPERVISADO UTILIZA DATOS QUE YA ESTAN ETIQUETADOS, ES DECIR SE ENTRENO AL MODELO PARA QUE PUEDA IDENTIFICAR CUAL ES LA RESPUESTA CORRECTA DE ACUERDO A UN ENTRENAMIENTO PREVIO, Y EL APRENDIZAJE NO SUPERVISADO NO VA A UTILIZAR DATOS ETIQUETADOS.**\n",
        "\n",
        "6. ¿Qué es Reducción de Dimensiones y cuáles son sus beneficios?\n",
        "\n",
        "**R. ES CUANDO ENCONTRAMOS UNA CORRELACIÓN ENTRE 2 O MÁS VARIABLES Y LAS SIMPLICAMOS EN MENOS VARIABLES, POR EJEMPLO TAMAÑO Y PESO QUE QUIZAS PODEMOS CREAR UNA RELACIÓN DE INDICE DE MASA, DE MODO QUE EN LUGAR DE EVALUAR 2 VARIABLES EVALUAMOS 1, LO QUE NOS PERMITE MANEJAR MEJOR LOS DATOS SIN PERDER LA INFORMACIÓN DEL TODO**\n",
        "\n",
        "7. ¿Qué son los sistemas de recomendación?\n",
        "\n",
        "**R.SE BASAN EN MODELOS DE PREDICCIÓN -DE MACHING LEARNING- QUE NOS PERMITEN INDICAR AL USUARIOS CIERTAS PROPUESTAS -RECOMENDACIONES- EN FUNCIÓN A USUARIOS CON GUSTOS SIMILARES, SE UTILIZAN POR EJEMPLO EN SPOTIFY O NETFLIX EN SUS LISTAS DE RECOMENDACIÓN**\n",
        "\n",
        "8. ¿Qué es clustering y para qué sirve en la ciencia de datos?\n",
        "\n",
        "**R.ES UN MODELO QUE TE AYUDA A SEGMENTAR LOS DATOS DE ACUERDO A CIERTO GRADO DE SIMILITUD ENTRE ELLOS Y PODER ENTENDER MEJOR LOS AGRUPAMIENTOS QUE PUEDE TENER LA DATA**\n",
        "\n",
        "9. ¿Cómo puedo elegir el mejor valor de K para K-Means?\n",
        "\n",
        "**R.CON EL MÉTODO DEL CODO, YA QUE EL MEJOR K ES JUSTO EN DONDE LA CURVA CAMBIA**\n",
        "\n",
        "10. ¿Cuál es la diferencia entre los modelos de clasificación y los modelos de regresión?\n",
        "\n",
        "**R.LOS MODELOS DE CLASIFICACIÓN SE UTILIZAN PARA CUANDO NUESTROS DATOS CUALITATIVOS O DISCRETOS, Y EL MODELO DE REGRESIÓN SE UTILIZA PARA DATOS CUANTITATIVOS**\n",
        "\n",
        "11. Menciona dos métricas de evaluación para los modelos de regresión y cómo se interpretan.\n",
        "\n",
        "**R. R2 -R CUADRADA- NOS INDICA QUE TANTA VARIACIÓN TIENE LA VARIABLE DEPENDIENTE QUE SE PUEDE PREDECIR DESDE LA VARIABLE INDEPENDIENTE. ERROR ABSOLUTO MEDIO NOS PERMITE SABER QUE TAN DIFERENTE ES EL VALOR PREDICHO DEL VALOR REAL.**\n",
        "\n",
        "12. ¿Qué es una matriz de confusión? ¿Cuáles métricas de evaluación podemos calcular con ella?\n",
        "\n",
        "**R. ES UNA TABLA QUE NOS PERMITE VER EN UNA TABLA DE 4 CUADRANTES -VERDADERO POSITIVO/NEGATIVO, FALSO POSITIVO/NEGATIVO- ESTA TABLA NOS PERMITE VER EL DESEMPEÑO DEL MODELO PARA CADA CATEGORIA PARA UNA CLASIFICACIÓN BINARIA Y ASI DETERMINAR CUAL ES EL MEJOR MODELO. PODEMOS EVALUAR LA ACCURRACY -ACCURACY=NUMERO DE ACIERTOS/NUMERO TOTAL DE DATOS-. **\n",
        "\n",
        "13. Menciona las diferencias entre \"correlación\" y \"causalidad\".\n",
        "\n",
        "**R.UNA CAUSALIDAD IMPLICA QUE DADO A ENTONCES B, ES UNA RELACIÓN ENTRE A Y B. EN UNA CORRELACIÓN HAY UNA DIRECCIÓN -POSITIVA O NEGATIVA- Y UNA FUERZA -PARAMETRIZAMOS ENTRE 0 Y 1-  EN DONDE LA VARIABLE A PUEDE O NO TENER NINGUNA RELACIÓN CON LA VARIABLE B.**\n",
        "\n",
        "14. ¿Qué es Deep Learning?\n",
        "\n",
        "**R. ES UN TIPO DE MACHING LEARNING MÁS ESPECIALIZADO, SE BASA EN LA REDES NEURONALES Y SU PRINCIPAL DIFERENCIA ES EL TIPO DE DATOS NO ESTRUCTURADOS QUE PUEDE ANALIZAR, COMO SON:AUDIO, IMAGENES, VIDEO, SERIES DE TIEMPO O TEXTO**\n",
        "\n",
        "15. ¿Qué es un perceptrón?\n",
        "**R.ES UNA NEURONA ARTIFICIAL UTILIZADA EN EL DEEP LEARNIG, EL CUAL PUEDE DETECTAR CARACTERISTICAS O TENDENCIAS, SE CONSIDERA UN ALGORITMO SUPERVISADO UTILIZADO PARA PREDICCIONES.**\n",
        "\n",
        "16. ¿Qué es el procesamiento de lenguaje natural (NLP) y cómo se aplica en ciencia de datos?\n",
        "\n",
        "**R.NLP PERMITE INTERPRETAR, COMPRENDER Y MANIPULAR EL LENGUAJE HUMANO, SE UTILIZA PARA ANALIZAR DATOS DE TEXTO Y VOZ. SE PUEDE UTILIZAR PARA ANALIZAR Y CLASIFICAR COMENTARIOS DE LOS CLIENTES - POR EJEMPLO RESEÑAS DE PRODCUCTOS- PARA CLASIFICAR Y EXTRAER TEXTOS, O EJECUTAR CHATBOTS DE ATENCIÓN A CLIENTES. CREO QUE INCLUSO CHAT GTP PODRIA UTILIZAR ESTE MODELO**\n",
        "\n",
        "17. ¿Cuál es el mejor modelo de clasificación para NLP y por qué?\n",
        "\n",
        "**R.SVM, SON LOS QUE LOGRAN UNA MAYOR PRECISIÓN **\n",
        "\n",
        "18. Menciona 3 casos de usos para Machine Learning.\n",
        "\n",
        "**R.1.- ANALISIS DE IMAGENES, FORECAST, COMPORTAMIENTO DE CONSUMO**\n",
        "\n",
        "19. Menciona 2 modelos de predicción y describe brevemente cómo funcionan.\n",
        "\n",
        "**R. REGRESIÓN LINEAL, IDENTIFICA LA MEJOR CONEXIÓN LINEAL ENTRA LA VARIABLE DE ENTRADA Y LA VARIABLE OBJETIVO. BOSQUE ALEATORIO, QUE SE BASA EN VARIOS ÁRBOLES DE DECISIÓN, PERO AUMENTA LA PRECISIÓN DE LA PREDICCIÓN Y REDUCE EL SOBREAJUSTE**\n",
        "\n",
        "20. Menciona 2 modelos de clasificación y describe brevemente cómo funcionan.\n",
        "\n",
        "**R.ÁRBOL DE DECISIONES, MIDE LA METRICA OBJETIVO Y TRATA DE BUSCAR LA METRICA OBJETIVO. NAIVE BAYES, SIRVE PARA VARIABLES INDEPENDIENTES PREDICTORIAS, SOBRE TODO PARA DATOS DE TIPO TEXTO**\n",
        "\n",
        "\n",
        "\n"
      ],
      "metadata": {
        "id": "gapcFxQ5GpnR"
      }
    },
    {
      "cell_type": "markdown",
      "source": [
        "### Examen Práctico\n",
        "\n",
        "**Instrucciones**\n",
        "Escoge uno de los siguientes datasets, descárgalo, define un problema a resolver y utilízalo para aplicar el modelo de Data Science que mejor creas.\n",
        "* *Bike Sharing Dataset:* https://archive.ics.uci.edu/dataset/275/bike+sharing+dataset\n",
        "* *Stock Market Dataset:* https://www.kaggle.com/datasets/jacksoncrow/stock-market-dataset\n",
        "* *Titanic Dataset:* https://www.kaggle.com/c/titanic/data\n",
        "* *Spam Email Dataset:* https://archive.ics.uci.edu/dataset/94/spambase\n",
        "* *Book-Crossing Dataset:* https://www.kaggle.com/datasets/somnambwl/bookcrossing-dataset\n",
        "* *Twitter Dataset:* https://www.kaggle.com/datasets/jp797498e/twitter-entity-sentiment-analysis\n",
        "\n",
        "#### **Explicación del problema**\n",
        "**R.UTILIZARÉ LA DATA witter Dataset Y VOY A REALIZAR UN ANALISIS DE SENTIMIENTO RESPECTO A LAS OPINIONES DE LOS DIFERENTES PROVEEDORES O SERVICIOS QUE SE MUESTRAN EN EL DATASET**\n",
        "\n"
      ],
      "metadata": {
        "id": "1jg7QcEQH3PN"
      }
    },
    {
      "cell_type": "markdown",
      "source": [
        "#### **Código**\n",
        "\n"
      ],
      "metadata": {
        "id": "OoVSWdeAH6V4"
      }
    },
    {
      "cell_type": "markdown",
      "source": [
        "#### **Explicación de resultados**\n",
        "\n",
        "**R.**"
      ],
      "metadata": {
        "id": "iFh2uQV0H77T"
      }
    }
  ]
}